{
  "nbformat": 4,
  "nbformat_minor": 0,
  "metadata": {
    "colab": {
      "name": "age_PDFS.ipynb",
      "provenance": [],
      "include_colab_link": true
    },
    "kernelspec": {
      "name": "python3",
      "display_name": "Python 3"
    },
    "language_info": {
      "name": "python"
    }
  },
  "cells": [
    {
      "cell_type": "markdown",
      "metadata": {
        "id": "view-in-github",
        "colab_type": "text"
      },
      "source": [
        "<a href=\"https://colab.research.google.com/github/Rogerod23/Rogelio/blob/main/age_PDFS.ipynb\" target=\"_parent\"><img src=\"https://colab.research.google.com/assets/colab-badge.svg\" alt=\"Open In Colab\"/></a>"
      ]
    },
    {
      "cell_type": "code",
      "metadata": {
        "colab": {
          "base_uri": "https://localhost:8080/",
          "height": 311
        },
        "id": "Db88UTqmZ5DL",
        "outputId": "d1feb14f-329d-440b-ad69-d323b21090a1"
      },
      "source": [
        "import pandas as pd\n",
        "import numpy as np\n",
        "import matplotlib.pyplot as plt\n",
        "%matplotlib inline\n",
        "from matplotlib import rcParams\n",
        "### THIS NOTEBOOK ONLY PLOTS CLUSTERS 2732 and 816.\n",
        "\n",
        "#############################\n",
        "#### LOAD DATA   ############\n",
        "#############################\n",
        "PDF = pd.read_csv(\"https://raw.githubusercontent.com/Rogerod23/Rogelio/main/PDF.csv\")\n",
        "percentiles = pd.read_csv(\"https://raw.githubusercontent.com/Rogerod23/Rogelio/main/percentiles_all.csv\")\n",
        "\n",
        "del PDF[\"Unnamed: 0\"]\n",
        "del percentiles[\"Unnamed: 0\"]\n",
        "\n",
        "\n",
        "cluster_list = [\"11-E\", \"90-E\", \"93-E\", \"383-W\", \"417-W\", \"451-W\", \"531-E\", \"534-E\",\n",
        "                \"589-E\", \"816-E\", \"894-E\", \"1252-W\", \"1381-W\", \"1564-W\", \"1576-W\",\n",
        "                \"1949-W\", \"2449-W\", \"2732-W\", \"2740-W\"]\n",
        "\n",
        "PDF_columns = PDF.columns\n",
        "percentiles_columns = percentiles.columns\n",
        "\n",
        "# Getting name of the age_pdf of cb2018\n",
        "a = np.where(PDF_columns.str.contains(\"tpdf_cb2018\") == True)\n",
        "age_CB2018 = PDF_columns[a]\n",
        "\n",
        "\n",
        "a = np.where(percentiles_columns.str.contains(\"cb2018\") == True)\n",
        "percentiles_CB2018 = percentiles_columns[a]\n",
        "\n",
        "a = np.where(percentiles_CB2018.str.contains(\"t_\") == True)\n",
        "percentiles_CB2018 = percentiles_CB2018[a]\n",
        "\n",
        "\n",
        "\n",
        "# Getting name of the age_pdf of Krumholz2015\n",
        "a = np.where(PDF_columns.str.contains(\"tpdf_modp020\") == True)\n",
        "age_Krumholz2015 = PDF_columns[a]\n",
        "\n",
        "a = np.where(percentiles_columns.str.contains(\"modp020\") == True)\n",
        "percentiles_Krumholz2015 = percentiles_columns[a]\n",
        "\n",
        "a = np.where(percentiles_Krumholz2015.str.contains(\"t_\") == True)\n",
        "percentiles_Krumholz2015 = percentiles_Krumholz2015[a]\n",
        "\n",
        "\n",
        "\n",
        "#PDF COLUMN INFO TO SEE WHAT PLOT YOU WANT TO SEE\n",
        "#print(percentiles_columns)\n",
        "#print(PDF_columns)\n",
        "\n",
        "#########################################################\n",
        "# Colors \n",
        "#########################################################\n",
        "\n",
        "alpha=1\n",
        "blue=(7/255,80/255,155/255,alpha)\n",
        "lblue=(106/255,175/255,210/255,alpha)\n",
        "pistache=(190/255,250/255,215/255,alpha)\n",
        "yellow=(248/255,250/255,3/255,alpha)\n",
        "red=(251/255,105/255,73/255,alpha)\n",
        "wine=(160/255,55/255,98/255,alpha)\n",
        "dgreen=(5/255,149/255,74/255,alpha)\n",
        "gray=(203/255,202/255,201/255,alpha)\n",
        "black = (0,0,0,1)\n",
        "\n",
        "mycolor=[blue,red,dgreen]\n",
        "\n",
        "#########################################################\n",
        "# Font parameters \n",
        "#########################################################\n",
        "fontsize=12\n",
        "font = {'family' : 'serif',\n",
        "        'weight' : 'regular',\n",
        "        'size'   : fontsize}\n",
        "plt.rc('font', **font)\n",
        "\n",
        "mycolor=[blue,red,dgreen]\n",
        "\n",
        "mark = \"None\"\n",
        "lw_ = 1.5\n",
        "linestyle_ = \"-\"\n",
        "\n",
        "#Figure size and subplots\n",
        "i = 0\n",
        "for CB2018, K2015 in zip(age_CB2018, age_Krumholz2015):\n",
        "#get cluster ID\n",
        "  if len(CB2018) == 25:\n",
        "    cid = CB2018[22:25]\n",
        "  else:\n",
        "    cid = CB2018[22:26]\n",
        "#Get percentiles column name\n",
        "  percentile_16th_CB2018 = \"t_16th_cb2018_z014_u3_{}\".format(cid)\n",
        "  percentile_50th_CB2018 = \"t_50th_cb2018_z014_u3_{}\".format(cid)\n",
        "  precentile_84th_CB2018 = \"t_84th_cb2018_z014_u3_{}\".format(cid)\n",
        "\n",
        "\n",
        "  percentile_16th_KRUM2015 = \"t_16th_modp020_chabrier_MW_phi0.50_{}\".format(cid)\n",
        "  percentile_50th_KRUM2015 = \"t_50th_modp020_chabrier_MW_phi0.50_{}\".format(cid)\n",
        "  precentile_84th_KRUM2015 = \"t_84th_modp020_chabrier_MW_phi0.50_{}\".format(cid)\n",
        "  fig, axes = plt.subplots(1,2,figsize=(10,4))\n",
        "\n",
        "  plt.subplots_adjust(hspace=0.5)\n",
        "  plt.subplots_adjust(wspace=0.25)\n",
        "  code=['GALAXEV','SLUG']\n",
        "#figure title\n",
        "  for c in cluster_list:\n",
        "    if cid == c[0:2]:\n",
        "      fig.suptitle('Cluster {}'.format(c), size = 12)\n",
        "    elif cid == c[0:3]:\n",
        "      fig.suptitle('Cluster {}'.format(c), size = 12)\n",
        "    elif cid == c[0:4]:\n",
        "      fig.suptitle('Cluster {}'.format(c), size = 12)\n",
        "\n",
        "\n",
        "  for icode in range(2):\n",
        "      axes[icode].set_ylabel('')\n",
        "      axes[icode].minorticks_on() #...add minor ticks to x and y axes\n",
        "      axes[icode].tick_params(which='minor', length = 2, width = 1, #...format minor ticks\n",
        "                                      direction = 'in', top = True, right = True)\n",
        "      axes[icode].tick_params(which='major', length = 4, width = 1, #...format minor ticks  \n",
        "                                        direction = 'in', top = True, right = True)\n",
        "  #    if icode==0 and icluster == 0:\n",
        "  #        axes[icluster][icode].annotate('Cluster 816-E', \n",
        "  #                                        xy = (0.4,0.95), xytext = (0.4,0.95), \n",
        "  #                                        xycoords='figure fraction', size = 12)\n",
        "  #    if icode==0 and icluster == 1:\n",
        "  #        axes[icluster][icode].annotate('Cluster 2732-W', \n",
        "  #                                        xy = (0.4,0.47), xytext = (0.4,0.47), \n",
        "  #                                        xycoords='figure fraction', size = 12)            \n",
        "      axes[icode].set_xlabel('Log(T) (yr)')\n",
        "      \n",
        "  axes[0].set_title(code[0],fontsize=12)\n",
        "  axes[1].set_title(code[1],fontsize=12)\n",
        "  axes[1].set_xlim(0, 8)\n",
        "\n",
        "\n",
        "  #Extinction plots\n",
        "\n",
        "\n",
        "\n",
        "  axes[0].plot(PDF.loc[:, PDF_columns[2]], PDF.loc[:, CB2018]/PDF.loc[:, CB2018].max(), color = black, marker = mark, \n",
        "          markevery= 10, linestyle = linestyle_, lw=lw_)\n",
        "\n",
        "  axes[1].plot(PDF.loc[:, PDF_columns[6]], PDF.loc[:, K2015]/PDF.loc[:, K2015].max(), color = black, marker = mark, \n",
        "          markevery= 10, linestyle = linestyle_, lw=lw_)\n",
        "  \n",
        "\n",
        "  axes[0].axvline(percentiles.loc[0, percentile_16th_CB2018], \n",
        "                   color =mycolor[0], linestyle = '-', linewidth = lw_,label='16th percentile')\n",
        "  axes[0].axvline(percentiles.loc[0, percentile_50th_CB2018], color =mycolor[1],\n",
        "                   linestyle =  '-', linewidth = lw_,label='50th percentile')\n",
        "  axes[0].axvline(percentiles.loc[0, precentile_84th_CB2018], color =mycolor[2],\n",
        "                   linestyle =  '-', linewidth = lw_,label='84th percentile')\n",
        "  axes[0].legend(loc = \"upper right\")\n",
        "\n",
        "  axes[1].axvline(percentiles.loc[0, percentile_16th_KRUM2015], \n",
        "                   color =mycolor[0], linestyle = '-', linewidth = lw_,label='16th percentile')\n",
        "  axes[1].axvline(percentiles.loc[0, percentile_50th_KRUM2015], color =mycolor[1],\n",
        "                   linestyle =  '-', linewidth = lw_,label='50th percentile')\n",
        "  axes[1].axvline(percentiles.loc[0, precentile_84th_KRUM2015], color =mycolor[2],\n",
        "                   linestyle =  '-', linewidth = lw_,label='84th percentile')\n",
        "\n",
        "\n",
        "  if len(CB2018) == 25:\n",
        "\n",
        "    plt.savefig(\"age_pdf_{}.png\".format(CB2018[20:25]), bbox_inches = 'tight',dpi=100)\n",
        "  else:\n",
        "    plt.savefig(\"age_pdf_{}.png\".format(CB2018[20:26]), bbox_inches = 'tight',dpi=100)\n",
        "  if i == 0:\n",
        "    plt.show()\n",
        "  plt.close()\n",
        "  i += 1\n",
        "\n"
      ],
      "execution_count": 1,
      "outputs": [
        {
          "output_type": "display_data",
          "data": {
            "image/png": "[encoded data removed]",
            "text/plain": [
              "<Figure size 720x288 with 2 Axes>"
            ]
          },
          "metadata": {
            "tags": [],
            "needs_background": "light"
          }
        }
      ]
    },
    {
      "cell_type": "code",
      "metadata": {
        "colab": {
          "base_uri": "https://localhost:8080/",
          "height": 315
        },
        "id": "ZzeJmHqOZTCo",
        "outputId": "b9bbfe87-3294-4ec0-bfd3-c01a890df468"
      },
      "source": [
        "#Routine to make extinction + age plots\n",
        "import pandas as pd\n",
        "import numpy as np\n",
        "import matplotlib.pyplot as plt\n",
        "%matplotlib inline\n",
        "from matplotlib import rcParams\n",
        "### THIS NOTEBOOK ONLY PLOTS CLUSTERS 2732 and 816.\n",
        "\n",
        "#############################\n",
        "#### LOAD DATA   ############\n",
        "#############################\n",
        "PDF = pd.read_csv(\"https://raw.githubusercontent.com/Rogerod23/Rogelio/main/PDF.csv\")\n",
        "percentiles = pd.read_csv(\"https://raw.githubusercontent.com/Rogerod23/Rogelio/main/percentiles_all.csv\")\n",
        "\n",
        "del PDF[\"Unnamed: 0\"]\n",
        "del percentiles[\"Unnamed: 0\"]\n",
        "\n",
        "\n",
        "cluster_list = [\"11-E\", \"90-E\", \"93-E\", \"383-W\", \"417-W\", \"451-W\", \"531-E\", \"534-E\",\n",
        "                \"589-E\", \"816-E\", \"894-E\", \"1252-W\", \"1381-W\", \"1564-W\", \"1576-W\",\n",
        "                \"1949-W\", \"2449-W\", \"2732-W\", \"2740-W\"]\n",
        "\n",
        "PDF_columns = PDF.columns\n",
        "percentiles_columns = percentiles.columns\n",
        "\n",
        "# Getting name of the age_pdf of cb2018\n",
        "a = np.where(PDF_columns.str.contains(\"AVpdf_cb2018\") == True)\n",
        "ext_CB2018 = PDF_columns[a]\n",
        "\n",
        "\n",
        "a = np.where(percentiles_columns.str.contains(\"cb2018\") == True)\n",
        "percentiles_CB2018 = percentiles_columns[a]\n",
        "\n",
        "a = np.where(percentiles_CB2018.str.contains(\"AV_\") == True)\n",
        "percentiles_CB2018 = percentiles_CB2018[a]\n",
        "\n",
        "\n",
        "\n",
        "\n",
        "# Getting name of the age_pdf of Krumholz2015\n",
        "a = np.where(PDF_columns.str.contains(\"AVpdf_modp020\") == True)\n",
        "ext_Krumholz2015 = PDF_columns[a]\n",
        "\n",
        "a = np.where(percentiles_columns.str.contains(\"modp020\") == True)\n",
        "percentiles_Krumholz2015 = percentiles_columns[a]\n",
        "\n",
        "a = np.where(percentiles_Krumholz2015.str.contains(\"AV_\") == True)\n",
        "percentiles_Krumholz2015 = percentiles_Krumholz2015[a]\n",
        "\n",
        "\n",
        "# Getting name of the age_pdf of Krumholz2015\n",
        "a = np.where(PDF_columns.str.contains(\"tpdf_modp020\") == True)\n",
        "age_Krumholz2015 = PDF_columns[a]\n",
        "\n",
        "a = np.where(percentiles_columns.str.contains(\"modp020\") == True)\n",
        "percentiles_Krumholz2015_age = percentiles_columns[a]\n",
        "\n",
        "a = np.where(percentiles_Krumholz2015_age.str.contains(\"t_\") == True)\n",
        "percentiles_Krumholz2015_age = percentiles_Krumholz2015_age[a]\n",
        "\n",
        "\n",
        "#PDF COLUMN INFO TO SEE WHAT PLOT YOU WANT TO SEE\n",
        "#print(percentiles_columns)\n",
        "#print(PDF_columns)\n",
        "\n",
        "#########################################################\n",
        "# Colors \n",
        "#########################################################\n",
        "\n",
        "alpha=1\n",
        "blue=(7/255,80/255,155/255,alpha)\n",
        "lblue=(106/255,175/255,210/255,alpha)\n",
        "pistache=(190/255,250/255,215/255,alpha)\n",
        "yellow=(248/255,250/255,3/255,alpha)\n",
        "red=(251/255,105/255,73/255,alpha)\n",
        "wine=(160/255,55/255,98/255,alpha)\n",
        "dgreen=(5/255,149/255,74/255,alpha)\n",
        "gray=(203/255,202/255,201/255,alpha)\n",
        "black = (0,0,0,1)\n",
        "\n",
        "mycolor=[blue,red,dgreen]\n",
        "\n",
        "#########################################################\n",
        "# Font parameters \n",
        "#########################################################\n",
        "fontsize=12\n",
        "font = {'family' : 'serif',\n",
        "        'weight' : 'regular',\n",
        "        'size'   : fontsize}\n",
        "plt.rc('font', **font)\n",
        "\n",
        "mycolor=[blue,red,dgreen]\n",
        "\n",
        "mark = \"None\"\n",
        "lw_ = 1.5\n",
        "linestyle_ = \"-\"\n",
        "\n",
        "#Figure size and subplots\n",
        "i = 0\n",
        "for CB2018, K2015, K2015_age in zip(ext_CB2018, ext_Krumholz2015, age_Krumholz2015):\n",
        "#get cluster ID\n",
        "  if len(CB2018) == 26:\n",
        "    cid = CB2018[23:26]\n",
        "  else:\n",
        "    cid = CB2018[23:27]\n",
        "#Get percentiles column name\n",
        "  percentile_16th_CB2018 = \"AV_16th_cb2018_z014_u3_{}\".format(cid)\n",
        "  percentile_50th_CB2018 = \"AV_50th_cb2018_z014_u3_{}\".format(cid)\n",
        "  precentile_84th_CB2018 = \"AV_84th_cb2018_z014_u3_{}\".format(cid)\n",
        "\n",
        "\n",
        "  percentile_16th_KRUM2015 = \"AV_16th_modp020_chabrier_MW_phi0.50_{}\".format(cid)\n",
        "  percentile_50th_KRUM2015 = \"AV_50th_modp020_chabrier_MW_phi0.50_{}\".format(cid)\n",
        "  precentile_84th_KRUM2015 = \"AV_84th_modp020_chabrier_MW_phi0.50_{}\".format(cid)\n",
        "\n",
        "  percentile_16th_KRUM2015_age = \"t_16th_modp020_chabrier_MW_phi0.50_{}\".format(cid)\n",
        "  percentile_50th_KRUM2015_age = \"t_50th_modp020_chabrier_MW_phi0.50_{}\".format(cid)\n",
        "  precentile_84th_KRUM2015_age = \"t_84th_modp020_chabrier_MW_phi0.50_{}\".format(cid)\n",
        "  fig, axes = plt.subplots(1,3,figsize=(10,4))\n",
        "\n",
        "  plt.subplots_adjust(hspace=0.5)\n",
        "  plt.subplots_adjust(wspace=0.25)\n",
        "  code=['GALAXEV','SLUG']\n",
        "#figure title\n",
        "  for c in cluster_list:\n",
        "    if cid == c[0:2]:\n",
        "      fig.suptitle('Cluster {}'.format(c), size = 12)\n",
        "    elif cid == c[0:3]:\n",
        "      fig.suptitle('Cluster {}'.format(c),  x = 0.52, size = 12)\n",
        "    elif cid == c[0:4]:\n",
        "      fig.suptitle('Cluster {}'.format(c), size = 12)\n",
        "\n",
        "\n",
        "  for icode in range(3):\n",
        "      axes[icode].set_ylabel('')\n",
        "      axes[icode].minorticks_on() #...add minor ticks to x and y axes\n",
        "      axes[icode].tick_params(which='minor', length = 2, width = 1, #...format minor ticks\n",
        "                                      direction = 'in', top = True, right = True)\n",
        "      axes[icode].tick_params(which='major', length = 4, width = 1, #...format minor ticks  \n",
        "                                        direction = 'in', top = True, right = True)\n",
        "  #    if icode==0 and icluster == 0:\n",
        "  #        axes[icluster][icode].annotate('Cluster 816-E', \n",
        "  #                                        xy = (0.4,0.95), xytext = (0.4,0.95), \n",
        "  #                                        xycoords='figure fraction', size = 12)\n",
        "  #    if icode==0 and icluster == 1:\n",
        "  #        axes[icluster][icode].annotate('Cluster 2732-W', \n",
        "  #                                        xy = (0.4,0.47), xytext = (0.4,0.47), \n",
        "  #                                        xycoords='figure fraction', size = 12)\n",
        "\n",
        "      if icode == 2:\n",
        "        axes[icode].set_xlabel('Log(Age/yr)')\n",
        "      else:          \n",
        "        axes[icode].set_xlabel(r'A$_{V}$ (mag)')\n",
        "      \n",
        "  axes[0].set_title(code[0],fontsize=12)\n",
        "  axes[1].set_title(code[1],fontsize=12)\n",
        "  axes[2].set_title(code[1],fontsize=12)\n",
        "  \n",
        "\n",
        "\n",
        "  #Extinction plots\n",
        "\n",
        "\n",
        "\n",
        "  axes[0].plot(PDF.loc[:, PDF_columns[0]], PDF.loc[:, CB2018]/PDF.loc[:, CB2018].max(), color = black, marker = mark, \n",
        "          markevery= 10, linestyle = linestyle_, lw=lw_)\n",
        "\n",
        "  axes[1].plot(PDF.loc[:, PDF_columns[4]], PDF.loc[:, K2015]/PDF.loc[:, K2015].max(), color = black, marker = mark, \n",
        "          markevery= 10, linestyle = linestyle_, lw=lw_)\n",
        "  \n",
        "  axes[2].plot(PDF.loc[:, PDF_columns[6]], PDF.loc[:, K2015_age]/PDF.loc[:, K2015_age].max(), color = black, marker = mark, \n",
        "          markevery= 10, linestyle = linestyle_, lw=lw_)\n",
        "  \n",
        "\n",
        "  axes[0].axvline(percentiles.loc[0, percentile_16th_CB2018], \n",
        "                   color =mycolor[0], linestyle = '-', linewidth = lw_,label='16th percentile')\n",
        "  axes[0].axvline(percentiles.loc[0, percentile_50th_CB2018], color =mycolor[1],\n",
        "                   linestyle =  '-', linewidth = lw_,label='50th percentile')\n",
        "  axes[0].axvline(percentiles.loc[0, precentile_84th_CB2018], color =mycolor[2],\n",
        "                   linestyle =  '-', linewidth = lw_,label='84th percentile')\n",
        "  axes[0].legend(loc = \"upper right\")\n",
        "\n",
        "  axes[1].axvline(percentiles.loc[0, percentile_16th_KRUM2015], \n",
        "                   color =mycolor[0], linestyle = '-', linewidth = lw_,label='16th percentile')\n",
        "  axes[1].axvline(percentiles.loc[0, percentile_50th_KRUM2015], color =mycolor[1],\n",
        "                   linestyle =  '-', linewidth = lw_,label='50th percentile')\n",
        "  axes[1].axvline(percentiles.loc[0, precentile_84th_KRUM2015], color =mycolor[2],\n",
        "                   linestyle =  '-', linewidth = lw_,label='84th percentile')\n",
        "  \n",
        "\n",
        "  axes[2].axvline(percentiles.loc[0, percentile_16th_KRUM2015_age], \n",
        "                   color =mycolor[0], linestyle = '-', linewidth = lw_,label='16th percentile')\n",
        "  axes[2].axvline(percentiles.loc[0, percentile_50th_KRUM2015_age], color =mycolor[1],\n",
        "                   linestyle =  '-', linewidth = lw_,label='50th percentile')\n",
        "  axes[2].axvline(percentiles.loc[0, precentile_84th_KRUM2015_age], color =mycolor[2],\n",
        "                   linestyle =  '-', linewidth = lw_,label='84th percentile')\n",
        "\n",
        "\n",
        "  if len(CB2018) == 25:\n",
        "    plt.savefig(\"ext_pdf_{}.png\".format(CB2018[20:25]), bbox_inches = 'tight',dpi=100)\n",
        "  else:\n",
        "   plt.savefig(\"ext_pdf_{}.png\".format(CB2018[20:26]), bbox_inches = 'tight',dpi=100)\n",
        "  if i == 0:\n",
        "    plt.show()\n",
        "  plt.close()\n",
        "  i += 1\n"
      ],
      "execution_count": null,
      "outputs": [
        {
          "output_type": "display_data",
          "data": {
            "image/png": "[encoded data removed]",
            "text/plain": [
              "<Figure size 720x288 with 3 Axes>"
            ]
          },
          "metadata": {
            "tags": [],
            "needs_background": "light"
          }
        }
      ]
    },
    {
      "cell_type": "code",
      "metadata": {
        "id": "O8-QDCMD2d_w",
        "outputId": "82e6f155-e093-4d6c-ad97-6f20d6757caa",
        "colab": {
          "base_uri": "https://localhost:8080/",
          "height": 35
        }
      },
      "source": [
        "c[0:2]"
      ],
      "execution_count": 15,
      "outputs": [
        {
          "output_type": "execute_result",
          "data": {
            "application/vnd.google.colaboratory.intrinsic+json": {
              "type": "string"
            },
            "text/plain": [
              "'27'"
            ]
          },
          "metadata": {
            "tags": []
          },
          "execution_count": 15
        }
      ]
    },
    {
      "cell_type": "code",
      "metadata": {
        "colab": {
          "base_uri": "https://localhost:8080/",
          "height": 311
        },
        "id": "sk1-JeWaZ_eO",
        "outputId": "e7681021-2b1c-4bf5-bd6d-e7e26f789ebc"
      },
      "source": [
        "import pandas as pd\n",
        "import numpy as np\n",
        "import matplotlib.pyplot as plt\n",
        "%matplotlib inline\n",
        "from matplotlib import rcParams\n",
        "### THIS NOTEBOOK ONLY PLOTS CLUSTERS 2732 and 816.\n",
        "\n",
        "#############################\n",
        "#### LOAD DATA   ############\n",
        "#############################\n",
        "PDF = pd.read_csv(\"https://raw.githubusercontent.com/Rogerod23/Rogelio/main/PDF.csv\")\n",
        "percentiles = pd.read_csv(\"https://raw.githubusercontent.com/Rogerod23/Rogelio/main/percentiles_all.csv\")\n",
        "\n",
        "del PDF[\"Unnamed: 0\"]\n",
        "del percentiles[\"Unnamed: 0\"]\n",
        "\n",
        "\n",
        "cluster_list = [\"11-E\", \"90-E\", \"93-E\", \"383-W\", \"417-W\", \"451-W\", \"531-E\", \"534-E\",\n",
        "                \"589-E\", \"816-E\", \"894-E\", \"1252-W\", \"1381-W\", \"1564-W\", \"1576-W\",\n",
        "                \"1949-W\", \"2449-W\", \"2732-W\", \"2740-W\"]\n",
        "\n",
        "PDF_columns = PDF.columns\n",
        "percentiles_columns = percentiles.columns\n",
        "\n",
        "# Getting name of the age_pdf of cb2018\n",
        "a = np.where(PDF_columns.str.contains(\"tpdf_cb2018\") == True)\n",
        "age_CB2018 = PDF_columns[a]\n",
        "\n",
        "\n",
        "a = np.where(percentiles_columns.str.contains(\"cb2018\") == True)\n",
        "percentiles_CB2018 = percentiles_columns[a]\n",
        "\n",
        "a = np.where(percentiles_CB2018.str.contains(\"t_\") == True)\n",
        "percentiles_CB2018 = percentiles_CB2018[a]\n",
        "\n",
        "\n",
        "\n",
        "# Getting name of the age_pdf of Krumholz2015\n",
        "a = np.where(PDF_columns.str.contains(\"tpdf_modp020\") == True)\n",
        "age_Krumholz2015 = PDF_columns[a]\n",
        "\n",
        "a = np.where(percentiles_columns.str.contains(\"modp020\") == True)\n",
        "percentiles_Krumholz2015 = percentiles_columns[a]\n",
        "\n",
        "a = np.where(percentiles_Krumholz2015.str.contains(\"t_\") == True)\n",
        "percentiles_Krumholz2015 = percentiles_Krumholz2015[a]\n",
        "\n",
        "\n",
        "\n",
        "#PDF COLUMN INFO TO SEE WHAT PLOT YOU WANT TO SEE\n",
        "#print(percentiles_columns)\n",
        "#print(PDF_columns)\n",
        "\n",
        "#########################################################\n",
        "# Colors \n",
        "#########################################################\n",
        "\n",
        "alpha=1\n",
        "blue=(7/255,80/255,155/255,alpha)\n",
        "lblue=(106/255,175/255,210/255,alpha)\n",
        "pistache=(190/255,250/255,215/255,alpha)\n",
        "yellow=(248/255,250/255,3/255,alpha)\n",
        "red=(251/255,105/255,73/255,alpha)\n",
        "wine=(160/255,55/255,98/255,alpha)\n",
        "dgreen=(5/255,149/255,74/255,alpha)\n",
        "gray=(203/255,202/255,201/255,alpha)\n",
        "black = (0,0,0,1)\n",
        "\n",
        "mycolor=[blue,red,dgreen]\n",
        "\n",
        "#########################################################\n",
        "# Font parameters \n",
        "#########################################################\n",
        "fontsize=12\n",
        "font = {'family' : 'serif',\n",
        "        'weight' : 'regular',\n",
        "        'size'   : fontsize}\n",
        "plt.rc('font', **font)\n",
        "\n",
        "mycolor=[blue,red,dgreen]\n",
        "\n",
        "mark = \"None\"\n",
        "lw_ = 1.5\n",
        "linestyle_ = \"-\"\n",
        "\n",
        "#Figure size and subplots\n",
        "i = 0\n",
        "for CB2018, K2015 in zip(age_CB2018, age_Krumholz2015):\n",
        "#get cluster ID\n",
        "  if len(CB2018) == 25:\n",
        "    cid = CB2018[22:25]\n",
        "  else:\n",
        "    cid = CB2018[22:26]\n",
        "#Get percentiles column name\n",
        "  percentile_16th_CB2018 = \"t_16th_cb2018_z014_u3_{}\".format(cid)\n",
        "  percentile_50th_CB2018 = \"t_50th_cb2018_z014_u3_{}\".format(cid)\n",
        "  precentile_84th_CB2018 = \"t_84th_cb2018_z014_u3_{}\".format(cid)\n",
        "\n",
        "\n",
        "  percentile_16th_KRUM2015 = \"t_16th_modp020_chabrier_MW_phi0.50_{}\".format(cid)\n",
        "  percentile_50th_KRUM2015 = \"t_50th_modp020_chabrier_MW_phi0.50_{}\".format(cid)\n",
        "  precentile_84th_KRUM2015 = \"t_84th_modp020_chabrier_MW_phi0.50_{}\".format(cid)\n",
        "  fig, axes = plt.subplots(1,1,figsize=(4,4))\n",
        "\n",
        "  plt.subplots_adjust(hspace=0.5)\n",
        "  plt.subplots_adjust(wspace=0.25)\n",
        "  code=['SLUG']\n",
        "#figure title\n",
        "  for c in cluster_list:\n",
        "    if cid == c[0:2]:\n",
        "      fig.suptitle('Cluster {}'.format(c), size = 12)\n",
        "    elif cid == c[0:3]:\n",
        "      fig.suptitle('Cluster {}'.format(c), size = 12)\n",
        "    elif cid == c[0:4]:\n",
        "      fig.suptitle('Cluster {}'.format(c), size = 12)\n",
        "\n",
        "\n",
        "  for icode in range(1):\n",
        "      axes.set_ylabel('')\n",
        "      axes.minorticks_on() #...add minor ticks to x and y axes\n",
        "      axes.tick_params(which='minor', length = 2, width = 1, #...format minor ticks\n",
        "                                      direction = 'in', top = True, right = True)\n",
        "      axes.tick_params(which='major', length = 4, width = 1, #...format minor ticks  \n",
        "                                        direction = 'in', top = True, right = True)\n",
        "  #    if icode==0 and icluster == 0:\n",
        "  #        axes[icluster][icode].annotate('Cluster 816-E', \n",
        "  #                                        xy = (0.4,0.95), xytext = (0.4,0.95), \n",
        "  #                                        xycoords='figure fraction', size = 12)\n",
        "  #    if icode==0 and icluster == 1:\n",
        "  #        axes[icluster][icode].annotate('Cluster 2732-W', \n",
        "  #                                        xy = (0.4,0.47), xytext = (0.4,0.47), \n",
        "  #                                        xycoords='figure fraction', size = 12)            \n",
        "      axes.set_xlabel('Log(T) (yr)')\n",
        "      \n",
        "  axes.set_title(code[0],fontsize=12)\n",
        "\n",
        "\n",
        "  #Extinction plots\n",
        "\n",
        "\n",
        "\n",
        "\n",
        "  axes.plot(PDF.loc[:, PDF_columns[6]], PDF.loc[:, K2015], color = black, marker = mark, \n",
        "          markevery= 10, linestyle = linestyle_, lw=lw_)\n",
        "  \n",
        "\n",
        "\n",
        "\n",
        "\n",
        "  axes.axvline(percentiles.loc[0, percentile_16th_KRUM2015], \n",
        "                   color =mycolor[0], linestyle = '-', linewidth = lw_,label='16th percentile')\n",
        "  axes.axvline(percentiles.loc[0, percentile_50th_KRUM2015], color =mycolor[1],\n",
        "                   linestyle =  '-', linewidth = lw_,label='50th percentile')\n",
        "  axes.axvline(percentiles.loc[0, precentile_84th_KRUM2015], color =mycolor[2],\n",
        "                   linestyle =  '-', linewidth = lw_,label='84th percentile')\n",
        "  \n",
        "\n",
        "  axes.legend(loc = \"upper right\")\n",
        "\n",
        "\n",
        "  if len(CB2018) == 25:\n",
        "\n",
        "    plt.savefig(\"age_pdf_slug_{}.png\".format(CB2018[20:25]), bbox_inches = 'tight',dpi=100)\n",
        "  else:\n",
        "    plt.savefig(\"age_pdf_slug_{}.png\".format(CB2018[20:26]), bbox_inches = 'tight',dpi=100)\n",
        "  if i == 0:\n",
        "    plt.show()\n",
        "  plt.close()\n",
        "  i += 1\n",
        "#axes[0][0].axvline(percentiles.loc[0, percentiles_columns[6]], \n",
        "#                   color =mycolor[0], linestyle = '-', linewidth = lw_,label='16th percentile')\n",
        "#axes[0][0].axvline(percentiles.loc[0, percentiles_columns[7]], color =mycolor[1],\n",
        "#                   linestyle =  '-', linewidth = lw_,label='50th percentile')\n",
        "#axes[0][0].axvline(percentiles.loc[0, percentiles_columns[8]], color =mycolor[2],\n",
        "#                   linestyle =  '-', linewidth = lw_,label='84th percentile')\n",
        "#axes[0][0].legend()\n",
        "\n",
        "\n",
        "#plt.savefig(\"fig11_age_pdf.png\", bbox_inches = 'tight',dpi=100)\n",
        "#plt.show()\n"
      ],
      "execution_count": null,
      "outputs": [
        {
          "output_type": "display_data",
          "data": {
            "image/png": "[encoded data removed]",
            "text/plain": [
              "<Figure size 288x288 with 1 Axes>"
            ]
          },
          "metadata": {
            "tags": [],
            "needs_background": "light"
          }
        }
      ]
    },
    {
      "cell_type": "code",
      "metadata": {
        "colab": {
          "base_uri": "https://localhost:8080/",
          "height": 35
        },
        "id": "Dd2qIbjNMzHc",
        "outputId": "86968e2d-977a-4936-bbcd-602d404db574"
      },
      "source": [
        "PDF_columns"
      ],
      "execution_count": null,
      "outputs": [
        {
          "output_type": "execute_result",
          "data": {
            "application/vnd.google.colaboratory.intrinsic+json": {
              "type": "string"
            },
            "text/plain": [
              "'816'"
            ]
          },
          "metadata": {
            "tags": []
          },
          "execution_count": 52
        }
      ]
    },
    {
      "cell_type": "code",
      "metadata": {
        "colab": {
          "base_uri": "https://localhost:8080/"
        },
        "id": "25dx6ykZM8is",
        "outputId": "4b972f49-bd85-4f9e-ecdd-362cf459e84b"
      },
      "source": [
        "len(cluster_list[0])"
      ],
      "execution_count": null,
      "outputs": [
        {
          "output_type": "execute_result",
          "data": {
            "text/plain": [
              "4"
            ]
          },
          "metadata": {
            "tags": []
          },
          "execution_count": 49
        }
      ]
    },
    {
      "cell_type": "code",
      "metadata": {
        "colab": {
          "base_uri": "https://localhost:8080/"
        },
        "id": "zI88JQGkaaUT",
        "outputId": "797eb8bf-b430-4c29-bf84-7f17478fd903"
      },
      "source": [
        "a = np.where(PDF_columns.str.contains(\"tpdf_cb2018\") == True)\n",
        "age_CB2018 = PDF_columns[a]"
      ],
      "execution_count": null,
      "outputs": [
        {
          "output_type": "execute_result",
          "data": {
            "text/plain": [
              "<bound method Index.sort of Index(['tpdf_cb2018_z014_u3_ID383', 'tpdf_cb2018_z014_u3_ID451',\n",
              "       'tpdf_cb2018_z014_u3_ID1252', 'tpdf_cb2018_z014_u3_ID1381',\n",
              "       'tpdf_cb2018_z014_u3_ID1564', 'tpdf_cb2018_z014_u3_ID1576',\n",
              "       'tpdf_cb2018_z014_u3_ID1949', 'tpdf_cb2018_z014_u3_ID2449',\n",
              "       'tpdf_cb2018_z014_u3_ID2732', 'tpdf_cb2018_z014_u3_ID2740',\n",
              "       'tpdf_cb2018_z014_u3_ID534', 'tpdf_cb2018_z014_u3_ID417',\n",
              "       'tpdf_cb2018_z014_u3_ID589', 'tpdf_cb2018_z014_u3_ID11',\n",
              "       'tpdf_cb2018_z014_u3_ID894', 'tpdf_cb2018_z014_u3_ID90',\n",
              "       'tpdf_cb2018_z014_u3_ID93', 'tpdf_cb2018_z014_u3_ID531',\n",
              "       'tpdf_cb2018_z014_u3_ID816'],\n",
              "      dtype='object')>"
            ]
          },
          "metadata": {
            "tags": []
          },
          "execution_count": 14
        }
      ]
    },
    {
      "cell_type": "code",
      "metadata": {
        "colab": {
          "base_uri": "https://localhost:8080/"
        },
        "id": "GuiJ0kDaa6xI",
        "outputId": "05fc2b4d-a74f-49bc-f35a-91e7b3ccd7be"
      },
      "source": [
        "PDF_columns"
      ],
      "execution_count": null,
      "outputs": [
        {
          "output_type": "execute_result",
          "data": {
            "text/plain": [
              "Index(['AVt_cb2018_z014_u3_ID383', 'AVpdf_cb2018_z014_u3_ID383',\n",
              "       'logt_cb2018_z014_u3_ID383', 'tpdf_cb2018_z014_u3_ID383',\n",
              "       'AVt_modp020_chabrier_MW_phi0.50_ID383',\n",
              "       'AVpdf_modp020_chabrier_MW_phi0.50_ID383',\n",
              "       'logt_modp020_chabrier_MW_phi0.50_ID383',\n",
              "       'tpdf_modp020_chabrier_MW_phi0.50_ID383', 'AVt_cb2018_z014_u3_ID451',\n",
              "       'AVpdf_cb2018_z014_u3_ID451',\n",
              "       ...\n",
              "       'logt_modp020_chabrier_MW_phi0.50_ID531',\n",
              "       'tpdf_modp020_chabrier_MW_phi0.50_ID531', 'AVt_cb2018_z014_u3_ID816',\n",
              "       'AVpdf_cb2018_z014_u3_ID816', 'logt_cb2018_z014_u3_ID816',\n",
              "       'tpdf_cb2018_z014_u3_ID816', 'AVt_modp020_chabrier_MW_phi0.50_ID816',\n",
              "       'AVpdf_modp020_chabrier_MW_phi0.50_ID816',\n",
              "       'logt_modp020_chabrier_MW_phi0.50_ID816',\n",
              "       'tpdf_modp020_chabrier_MW_phi0.50_ID816'],\n",
              "      dtype='object', length=152)"
            ]
          },
          "metadata": {
            "tags": []
          },
          "execution_count": 15
        }
      ]
    },
    {
      "cell_type": "code",
      "metadata": {
        "colab": {
          "base_uri": "https://localhost:8080/"
        },
        "id": "uZN1R6Albhyw",
        "outputId": "6eed90be-350a-4bc5-d8e1-c439374b7efd"
      },
      "source": [
        "axes[1]"
      ],
      "execution_count": null,
      "outputs": [
        {
          "output_type": "execute_result",
          "data": {
            "text/plain": [
              "<matplotlib.axes._subplots.AxesSubplot at 0x7f96dcf208d0>"
            ]
          },
          "metadata": {
            "tags": []
          },
          "execution_count": 21
        }
      ]
    },
    {
      "cell_type": "code",
      "metadata": {
        "colab": {
          "base_uri": "https://localhost:8080/"
        },
        "id": "CVQSIYxvcFGJ",
        "outputId": "2b99bfc9-a03f-4363-e4e5-d7cb0a4fb7c9"
      },
      "source": [
        "for i in range(2):\n",
        "  print(i)"
      ],
      "execution_count": null,
      "outputs": [
        {
          "output_type": "stream",
          "text": [
            "0\n",
            "1\n"
          ],
          "name": "stdout"
        }
      ]
    },
    {
      "cell_type": "code",
      "metadata": {
        "colab": {
          "base_uri": "https://localhost:8080/"
        },
        "id": "tj0sch4ZcI3u",
        "outputId": "3c62c835-de56-494d-b1a0-5cabdfe75310"
      },
      "source": [
        "for CB2018, K2015 in zip(age_CB2018, age_Krumholz2018):\n",
        "  print(CB2018)"
      ],
      "execution_count": null,
      "outputs": [
        {
          "output_type": "stream",
          "text": [
            "t_16th_cb2018_z014_u3_383\n",
            "t_50th_cb2018_z014_u3_383\n",
            "t_84th_cb2018_z014_u3_383\n",
            "t_16th_cb2018_z014_u3_451\n",
            "t_50th_cb2018_z014_u3_451\n",
            "t_84th_cb2018_z014_u3_451\n",
            "t_16th_cb2018_z014_u3_1252\n",
            "t_50th_cb2018_z014_u3_1252\n",
            "t_84th_cb2018_z014_u3_1252\n",
            "t_16th_cb2018_z014_u3_1381\n",
            "t_50th_cb2018_z014_u3_1381\n",
            "t_84th_cb2018_z014_u3_1381\n",
            "t_16th_cb2018_z014_u3_1564\n",
            "t_50th_cb2018_z014_u3_1564\n",
            "t_84th_cb2018_z014_u3_1564\n",
            "t_16th_cb2018_z014_u3_1576\n",
            "t_50th_cb2018_z014_u3_1576\n",
            "t_84th_cb2018_z014_u3_1576\n",
            "t_16th_cb2018_z014_u3_1949\n"
          ],
          "name": "stdout"
        }
      ]
    },
    {
      "cell_type": "code",
      "metadata": {
        "id": "7HHMbshmca2R"
      },
      "source": [
        "a = np.where(percentiles_columns.str.contains(\"cb2018\") == True)\n",
        "age_CB2018 = percentiles_columns[a]\n",
        "\n",
        "a = np.where(age_CB2018.str.contains(\"t_\") == True)\n",
        "age_CB2018 = age_CB2018[a]"
      ],
      "execution_count": null,
      "outputs": []
    },
    {
      "cell_type": "code",
      "metadata": {
        "colab": {
          "base_uri": "https://localhost:8080/"
        },
        "id": "kUq6xHB6cq1d",
        "outputId": "3ad2c7df-7e63-4822-f67b-7af391254d23"
      },
      "source": [
        "age_CB2018"
      ],
      "execution_count": null,
      "outputs": [
        {
          "output_type": "execute_result",
          "data": {
            "text/plain": [
              "Index(['t_16th_cb2018_z014_u3_383', 't_50th_cb2018_z014_u3_383',\n",
              "       't_84th_cb2018_z014_u3_383', 't_16th_cb2018_z014_u3_451',\n",
              "       't_50th_cb2018_z014_u3_451', 't_84th_cb2018_z014_u3_451',\n",
              "       't_16th_cb2018_z014_u3_1252', 't_50th_cb2018_z014_u3_1252',\n",
              "       't_84th_cb2018_z014_u3_1252', 't_16th_cb2018_z014_u3_1381',\n",
              "       't_50th_cb2018_z014_u3_1381', 't_84th_cb2018_z014_u3_1381',\n",
              "       't_16th_cb2018_z014_u3_1564', 't_50th_cb2018_z014_u3_1564',\n",
              "       't_84th_cb2018_z014_u3_1564', 't_16th_cb2018_z014_u3_1576',\n",
              "       't_50th_cb2018_z014_u3_1576', 't_84th_cb2018_z014_u3_1576',\n",
              "       't_16th_cb2018_z014_u3_1949', 't_50th_cb2018_z014_u3_1949',\n",
              "       't_84th_cb2018_z014_u3_1949', 't_16th_cb2018_z014_u3_2449',\n",
              "       't_50th_cb2018_z014_u3_2449', 't_84th_cb2018_z014_u3_2449',\n",
              "       't_16th_cb2018_z014_u3_2732', 't_50th_cb2018_z014_u3_2732',\n",
              "       't_84th_cb2018_z014_u3_2732', 't_16th_cb2018_z014_u3_2740',\n",
              "       't_50th_cb2018_z014_u3_2740', 't_84th_cb2018_z014_u3_2740',\n",
              "       't_16th_cb2018_z014_u3_534', 't_50th_cb2018_z014_u3_534',\n",
              "       't_84th_cb2018_z014_u3_534', 't_16th_cb2018_z014_u3_417',\n",
              "       't_50th_cb2018_z014_u3_417', 't_84th_cb2018_z014_u3_417',\n",
              "       't_16th_cb2018_z014_u3_589', 't_50th_cb2018_z014_u3_589',\n",
              "       't_84th_cb2018_z014_u3_589', 't_16th_cb2018_z014_u3_11',\n",
              "       't_50th_cb2018_z014_u3_11', 't_84th_cb2018_z014_u3_11',\n",
              "       't_16th_cb2018_z014_u3_894', 't_50th_cb2018_z014_u3_894',\n",
              "       't_84th_cb2018_z014_u3_894', 't_16th_cb2018_z014_u3_90',\n",
              "       't_50th_cb2018_z014_u3_90', 't_84th_cb2018_z014_u3_90',\n",
              "       't_16th_cb2018_z014_u3_93', 't_50th_cb2018_z014_u3_93',\n",
              "       't_84th_cb2018_z014_u3_93', 't_16th_cb2018_z014_u3_531',\n",
              "       't_50th_cb2018_z014_u3_531', 't_84th_cb2018_z014_u3_531',\n",
              "       't_16th_cb2018_z014_u3_816', 't_50th_cb2018_z014_u3_816',\n",
              "       't_84th_cb2018_z014_u3_816'],\n",
              "      dtype='object')"
            ]
          },
          "metadata": {
            "tags": []
          },
          "execution_count": 28
        }
      ]
    },
    {
      "cell_type": "code",
      "metadata": {
        "colab": {
          "base_uri": "https://localhost:8080/"
        },
        "id": "w044j3aMcrsm",
        "outputId": "f0ce93bb-e123-4fc7-e1e4-d4b152621ac8"
      },
      "source": [
        "a = np.where(percentiles_columns.str.contains(\"modp020\") == True)\n",
        "percentiles_Krumholz2015 = percentiles_columns[a]\n",
        "\n",
        "a = np.where(percentiles_Krumholz2015.str.contains(\"t_\") == True)\n",
        "percentiles_Krumholz2015 = percentiles_Krumholz2015[a]\n",
        "\n",
        "percentiles_Krumholz2015"
      ],
      "execution_count": null,
      "outputs": [
        {
          "output_type": "execute_result",
          "data": {
            "text/plain": [
              "Index(['t_16th_modp020_chabrier_MW_phi0.50_383',\n",
              "       't_50th_modp020_chabrier_MW_phi0.50_383',\n",
              "       't_84th_modp020_chabrier_MW_phi0.50_383',\n",
              "       't_16th_modp020_chabrier_MW_phi0.50_451',\n",
              "       't_50th_modp020_chabrier_MW_phi0.50_451',\n",
              "       't_84th_modp020_chabrier_MW_phi0.50_451',\n",
              "       't_16th_modp020_chabrier_MW_phi0.50_1252',\n",
              "       't_50th_modp020_chabrier_MW_phi0.50_1252',\n",
              "       't_84th_modp020_chabrier_MW_phi0.50_1252',\n",
              "       't_16th_modp020_chabrier_MW_phi0.50_1381',\n",
              "       't_50th_modp020_chabrier_MW_phi0.50_1381',\n",
              "       't_84th_modp020_chabrier_MW_phi0.50_1381',\n",
              "       't_16th_modp020_chabrier_MW_phi0.50_1564',\n",
              "       't_50th_modp020_chabrier_MW_phi0.50_1564',\n",
              "       't_84th_modp020_chabrier_MW_phi0.50_1564',\n",
              "       't_16th_modp020_chabrier_MW_phi0.50_1576',\n",
              "       't_50th_modp020_chabrier_MW_phi0.50_1576',\n",
              "       't_84th_modp020_chabrier_MW_phi0.50_1576',\n",
              "       't_16th_modp020_chabrier_MW_phi0.50_1949',\n",
              "       't_50th_modp020_chabrier_MW_phi0.50_1949',\n",
              "       't_84th_modp020_chabrier_MW_phi0.50_1949',\n",
              "       't_16th_modp020_chabrier_MW_phi0.50_2449',\n",
              "       't_50th_modp020_chabrier_MW_phi0.50_2449',\n",
              "       't_84th_modp020_chabrier_MW_phi0.50_2449',\n",
              "       't_16th_modp020_chabrier_MW_phi0.50_2732',\n",
              "       't_50th_modp020_chabrier_MW_phi0.50_2732',\n",
              "       't_84th_modp020_chabrier_MW_phi0.50_2732',\n",
              "       't_16th_modp020_chabrier_MW_phi0.50_2740',\n",
              "       't_50th_modp020_chabrier_MW_phi0.50_2740',\n",
              "       't_84th_modp020_chabrier_MW_phi0.50_2740',\n",
              "       't_16th_modp020_chabrier_MW_phi0.50_534',\n",
              "       't_50th_modp020_chabrier_MW_phi0.50_534',\n",
              "       't_84th_modp020_chabrier_MW_phi0.50_534',\n",
              "       't_16th_modp020_chabrier_MW_phi0.50_417',\n",
              "       't_50th_modp020_chabrier_MW_phi0.50_417',\n",
              "       't_84th_modp020_chabrier_MW_phi0.50_417',\n",
              "       't_16th_modp020_chabrier_MW_phi0.50_589',\n",
              "       't_50th_modp020_chabrier_MW_phi0.50_589',\n",
              "       't_84th_modp020_chabrier_MW_phi0.50_589',\n",
              "       't_16th_modp020_chabrier_MW_phi0.50_11',\n",
              "       't_50th_modp020_chabrier_MW_phi0.50_11',\n",
              "       't_84th_modp020_chabrier_MW_phi0.50_11',\n",
              "       't_16th_modp020_chabrier_MW_phi0.50_894',\n",
              "       't_50th_modp020_chabrier_MW_phi0.50_894',\n",
              "       't_84th_modp020_chabrier_MW_phi0.50_894',\n",
              "       't_16th_modp020_chabrier_MW_phi0.50_90',\n",
              "       't_50th_modp020_chabrier_MW_phi0.50_90',\n",
              "       't_84th_modp020_chabrier_MW_phi0.50_90',\n",
              "       't_16th_modp020_chabrier_MW_phi0.50_93',\n",
              "       't_50th_modp020_chabrier_MW_phi0.50_93',\n",
              "       't_84th_modp020_chabrier_MW_phi0.50_93',\n",
              "       't_16th_modp020_chabrier_MW_phi0.50_531',\n",
              "       't_50th_modp020_chabrier_MW_phi0.50_531',\n",
              "       't_84th_modp020_chabrier_MW_phi0.50_531',\n",
              "       't_16th_modp020_chabrier_MW_phi0.50_816',\n",
              "       't_50th_modp020_chabrier_MW_phi0.50_816',\n",
              "       't_84th_modp020_chabrier_MW_phi0.50_816'],\n",
              "      dtype='object')"
            ]
          },
          "metadata": {
            "tags": []
          },
          "execution_count": 29
        }
      ]
    },
    {
      "cell_type": "code",
      "metadata": {
        "colab": {
          "base_uri": "https://localhost:8080/",
          "height": 163
        },
        "id": "amAJET1adQjj",
        "outputId": "138707e9-3153-4f16-883b-a037dde266e8"
      },
      "source": [
        "PDF.loc[:, CB2018]"
      ],
      "execution_count": null,
      "outputs": [
        {
          "output_type": "error",
          "ename": "NameError",
          "evalue": "ignored",
          "traceback": [
            "\u001b[0;31m---------------------------------------------------------------------------\u001b[0m",
            "\u001b[0;31mNameError\u001b[0m                                 Traceback (most recent call last)",
            "\u001b[0;32m<ipython-input-40-038e147797e2>\u001b[0m in \u001b[0;36m<module>\u001b[0;34m()\u001b[0m\n\u001b[0;32m----> 1\u001b[0;31m \u001b[0mPDF\u001b[0m\u001b[0;34m.\u001b[0m\u001b[0mloc\u001b[0m\u001b[0;34m[\u001b[0m\u001b[0;34m:\u001b[0m\u001b[0;34m,\u001b[0m \u001b[0mCB2018\u001b[0m\u001b[0;34m]\u001b[0m\u001b[0;34m\u001b[0m\u001b[0;34m\u001b[0m\u001b[0m\n\u001b[0m",
            "\u001b[0;31mNameError\u001b[0m: name 'CB2018' is not defined"
          ]
        }
      ]
    },
    {
      "cell_type": "code",
      "metadata": {
        "id": "BriYBosMdp-F"
      },
      "source": [
        "a = np.where(PDF_columns.str.contains(\"tpdf_modp020\") == True)\n",
        "age_Krumholz2015 = PDF_columns[a]"
      ],
      "execution_count": null,
      "outputs": []
    },
    {
      "cell_type": "code",
      "metadata": {
        "colab": {
          "base_uri": "https://localhost:8080/"
        },
        "id": "Wp-KxAtjdxA9",
        "outputId": "d82c0cb2-d327-4073-de65-9369990e7c56"
      },
      "source": [
        "age_Krumholz2015"
      ],
      "execution_count": null,
      "outputs": [
        {
          "output_type": "execute_result",
          "data": {
            "text/plain": [
              "Index(['tpdf_modp020_chabrier_MW_phi0.50_ID383',\n",
              "       'tpdf_modp020_chabrier_MW_phi0.50_ID451',\n",
              "       'tpdf_modp020_chabrier_MW_phi0.50_ID1252',\n",
              "       'tpdf_modp020_chabrier_MW_phi0.50_ID1381',\n",
              "       'tpdf_modp020_chabrier_MW_phi0.50_ID1564',\n",
              "       'tpdf_modp020_chabrier_MW_phi0.50_ID1576',\n",
              "       'tpdf_modp020_chabrier_MW_phi0.50_ID1949',\n",
              "       'tpdf_modp020_chabrier_MW_phi0.50_ID2449',\n",
              "       'tpdf_modp020_chabrier_MW_phi0.50_ID2732',\n",
              "       'tpdf_modp020_chabrier_MW_phi0.50_ID2740',\n",
              "       'tpdf_modp020_chabrier_MW_phi0.50_ID534',\n",
              "       'tpdf_modp020_chabrier_MW_phi0.50_ID417',\n",
              "       'tpdf_modp020_chabrier_MW_phi0.50_ID589',\n",
              "       'tpdf_modp020_chabrier_MW_phi0.50_ID11',\n",
              "       'tpdf_modp020_chabrier_MW_phi0.50_ID894',\n",
              "       'tpdf_modp020_chabrier_MW_phi0.50_ID90',\n",
              "       'tpdf_modp020_chabrier_MW_phi0.50_ID93',\n",
              "       'tpdf_modp020_chabrier_MW_phi0.50_ID531',\n",
              "       'tpdf_modp020_chabrier_MW_phi0.50_ID816'],\n",
              "      dtype='object')"
            ]
          },
          "metadata": {
            "tags": []
          },
          "execution_count": 33
        }
      ]
    },
    {
      "cell_type": "code",
      "metadata": {
        "colab": {
          "base_uri": "https://localhost:8080/",
          "height": 35
        },
        "id": "5a-fz_UQdyH6",
        "outputId": "2757a90f-3e47-41d9-b52a-723cd778adf7"
      },
      "source": [
        "PDF_columns[2]\n",
        "PDF_columns[6]"
      ],
      "execution_count": null,
      "outputs": [
        {
          "output_type": "execute_result",
          "data": {
            "application/vnd.google.colaboratory.intrinsic+json": {
              "type": "string"
            },
            "text/plain": [
              "'logt_modp020_chabrier_MW_phi0.50_ID383'"
            ]
          },
          "metadata": {
            "tags": []
          },
          "execution_count": 35
        }
      ]
    },
    {
      "cell_type": "code",
      "metadata": {
        "id": "gu5HiU_hd0Ai"
      },
      "source": [
        ""
      ],
      "execution_count": null,
      "outputs": []
    }
  ]
}